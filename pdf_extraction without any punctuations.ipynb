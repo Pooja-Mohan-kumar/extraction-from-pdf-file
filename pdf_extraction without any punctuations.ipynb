{
 "cells": [
  {
   "cell_type": "code",
   "execution_count": 52,
   "metadata": {
    "colab": {},
    "colab_type": "code",
    "id": "DQD9OHG0Glph"
   },
   "outputs": [],
   "source": [
    "import PyPDF2"
   ]
  },
  {
   "cell_type": "code",
   "execution_count": 53,
   "metadata": {
    "colab": {},
    "colab_type": "code",
    "id": "wymKfu_ZGljL"
   },
   "outputs": [],
   "source": [
    "import pandas as pd\n",
    "import numpy as np\n",
    "datafile=\"resume.pdf\""
   ]
  },
  {
   "cell_type": "code",
   "execution_count": 54,
   "metadata": {
    "colab": {},
    "colab_type": "code",
    "id": "SVCkjRw1GlgJ"
   },
   "outputs": [],
   "source": [
    "pdffile = open(datafile,'rb')"
   ]
  },
  {
   "cell_type": "code",
   "execution_count": 55,
   "metadata": {
    "colab": {
     "base_uri": "https://localhost:8080/",
     "height": 34
    },
    "colab_type": "code",
    "id": "OrBfWSpgGldo",
    "outputId": "8c837675-2906-4add-f55a-fbd21133b6bd"
   },
   "outputs": [
    {
     "data": {
      "text/plain": [
       "<PyPDF2.pdf.PdfFileReader at 0x1a188a3470>"
      ]
     },
     "execution_count": 55,
     "metadata": {},
     "output_type": "execute_result"
    }
   ],
   "source": [
    "pdfread = PyPDF2.PdfFileReader(pdffile)\n",
    "pdfread"
   ]
  },
  {
   "cell_type": "code",
   "execution_count": 56,
   "metadata": {
    "colab": {},
    "colab_type": "code",
    "id": "i1tsj8CeGlbe"
   },
   "outputs": [],
   "source": [
    "# seeing the number of pages will allow us to see through all #the pages\n",
    "num_pages = pdfread.numPages\n",
    "count = 0\n",
    "text = \"\""
   ]
  },
  {
   "cell_type": "code",
   "execution_count": 57,
   "metadata": {
    "colab": {},
    "colab_type": "code",
    "id": "PZWMvGpNGlZH"
   },
   "outputs": [],
   "source": [
    "num_pages = pdfread.numPages\n",
    "count = 0\n",
    "text = \"\""
   ]
  },
  {
   "cell_type": "code",
   "execution_count": 58,
   "metadata": {
    "colab": {},
    "colab_type": "code",
    "id": "tUOWyayxGlXJ"
   },
   "outputs": [],
   "source": [
    "#The while loop will read each page\n",
    "while count < num_pages:\n",
    "    page = pdfread.getPage(count)\n",
    "    count +=1\n",
    "    text += page.extractText()"
   ]
  },
  {
   "cell_type": "code",
   "execution_count": 59,
   "metadata": {
    "colab": {},
    "colab_type": "code",
    "id": "xxSFryFbGlUa"
   },
   "outputs": [],
   "source": [
    "#This if statement exists to check if the above library returned words.\n",
    "#It's done because PyPDF2 cannot read scanned files.\n",
    "\n",
    "if text != \"\":\n",
    "   text = text"
   ]
  },
  {
   "cell_type": "code",
   "execution_count": 60,
   "metadata": {},
   "outputs": [],
   "source": [
    "import re"
   ]
  },
  {
   "cell_type": "code",
   "execution_count": 61,
   "metadata": {
    "colab": {},
    "colab_type": "code",
    "id": "d-5mghnJJr3Q"
   },
   "outputs": [],
   "source": [
    "#particularly I want an email from the resume\n",
    "emails = re.findall(r\"[a-z0-9\\.\\-+]+@[a-z0-9\\.\\-+]+\\.[a-z]+\", text)"
   ]
  },
  {
   "cell_type": "code",
   "execution_count": 62,
   "metadata": {
    "colab": {
     "base_uri": "https://localhost:8080/",
     "height": 34
    },
    "colab_type": "code",
    "id": "5HYbeBAYJzrw",
    "outputId": "34ea4fc1-2fe6-49b2-a1b3-b41f522b9d5d"
   },
   "outputs": [
    {
     "data": {
      "text/plain": [
       "['velicheti2phani@gmail.com']"
      ]
     },
     "execution_count": 62,
     "metadata": {},
     "output_type": "execute_result"
    }
   ],
   "source": [
    "emails"
   ]
  },
  {
   "cell_type": "code",
   "execution_count": 142,
   "metadata": {
    "colab": {},
    "colab_type": "code",
    "id": "0IfjzjeyJ9qX"
   },
   "outputs": [
    {
     "name": "stdout",
     "output_type": "stream",
     "text": [
      "   Platforms: Google Cloud Platform, Unix, Windows.  Languages : Python,R, SQL  Tools:Tableau  Database : Oracle database 11g, MySQl  Others: Machine Learning ,statistics,Data Mining   Domain: Retail  \n"
     ]
    }
   ],
   "source": [
    "pdfFileObj = open('resume.pdf', 'rb')\n",
    "pdfReader = PyPDF2.PdfFileReader(pdfFileObj)\n",
    "\n",
    "#print(pdfReader.numPages)\n",
    "\n",
    "pageObj1 = pdfReader.getPage(0)\n",
    "pagecontent = pageObj1.extractText()\n",
    "pagecontent=pagecontent.replace('\\n','').replace('\\t','')\n",
    "temp = []\n",
    "\n",
    "def between(value, a, b):\n",
    "    # Find and validate before-part.\n",
    "    pos_a = value.find(a)\n",
    "    if pos_a == -1: return \"\"\n",
    "    # Find and validate after part.\n",
    "    pos_b = value.rfind(b)\n",
    "    if pos_b == -1: return \"\"\n",
    "    # Return middle part.\n",
    "    adjusted_pos_a = pos_a + len(a)\n",
    "    if adjusted_pos_a >= pos_b: return \"\"\n",
    "    return value[adjusted_pos_a:pos_b]\n",
    "\n",
    "desired = between(pagecontent,\"Set\",\"Academic\")\n",
    "temp = desired\n",
    "print(desired)"
   ]
  },
  {
   "cell_type": "code",
   "execution_count": 143,
   "metadata": {},
   "outputs": [
    {
     "name": "stdout",
     "output_type": "stream",
     "text": [
      "['   Platforms: Google Cloud Platform, Unix, Windows.  Languages : Python,R, SQL  Tools:Tableau  Database : Oracle database 11g, MySQl  Others: Machine Learning ,statistics,Data Mining   Domain: Retail  ']\n"
     ]
    }
   ],
   "source": [
    "temp = [k for k in temp.split('\\n') if len(k)>2]\n",
    "print(temp)"
   ]
  }
 ],
 "metadata": {
  "colab": {
   "collapsed_sections": [],
   "name": "pdf_extraction.ipynb",
   "provenance": [],
   "version": "0.3.2"
  },
  "kernelspec": {
   "display_name": "Python 3",
   "language": "python",
   "name": "python3"
  },
  "language_info": {
   "codemirror_mode": {
    "name": "ipython",
    "version": 3
   },
   "file_extension": ".py",
   "mimetype": "text/x-python",
   "name": "python",
   "nbconvert_exporter": "python",
   "pygments_lexer": "ipython3",
   "version": "3.7.1"
  }
 },
 "nbformat": 4,
 "nbformat_minor": 2
}
